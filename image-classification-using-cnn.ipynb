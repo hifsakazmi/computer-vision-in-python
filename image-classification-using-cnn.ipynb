{
 "cells": [
  {
   "cell_type": "markdown",
   "id": "24f7e0aa-dd6d-490f-8494-c04c18c5a8d4",
   "metadata": {
    "slideshow": {
     "slide_type": "slide"
    }
   },
   "source": [
    "# Deep Learning - CNNs for Image Classification"
   ]
  },
  {
   "cell_type": "markdown",
   "id": "fc73498a-c73c-4eda-abcc-a34eff1d5527",
   "metadata": {
    "slideshow": {
     "slide_type": "subslide"
    }
   },
   "source": [
    "### Dataset: CIFAR10 | Framework: Keras (Tensorflow)"
   ]
  },
  {
   "cell_type": "code",
   "execution_count": null,
   "id": "34247ec1-612e-48e9-a714-66c6e0042bd6",
   "metadata": {
    "slideshow": {
     "slide_type": "slide"
    }
   },
   "outputs": [],
   "source": [
    "import numpy as np\n",
    "import pandas as pd\n",
    "\n",
    "import matplotlib.pyplot as plt\n",
    "%matplotlib inline\n",
    "\n",
    "import seaborn as sns\n",
    "sns.set_theme()\n",
    "sns.set_style('whitegrid')\n",
    "sns.set_palette(['#3F7C85', '#FF5F5D', '#00CCBF', '#72F2EB', '#747E7E'])\n",
    "\n",
    "# import warnings\n",
    "# warnings.filterwarnings('ignore')"
   ]
  },
  {
   "cell_type": "code",
   "execution_count": null,
   "id": "f080e350-a345-4843-96ab-b51539383ef6",
   "metadata": {
    "slideshow": {
     "slide_type": "subslide"
    }
   },
   "outputs": [],
   "source": [
    "import tensorflow as tf\n",
    "\n",
    "cifar10 = tf.keras.datasets.cifar10\n",
    "(X_train, y_train), (X_test, y_test) = cifar10.load_data()\n",
    "\n",
    "print(\"Training set shape:\", X_train.shape)\n",
    "print(\"Test set shape:\", X_test.shape)\n",
    "print(\"Traning set shape:\", y_train.shape)\n",
    "print(\"Test set labels:\", y_test.shape)"
   ]
  },
  {
   "cell_type": "code",
   "execution_count": null,
   "id": "d6e1a1ef-f83b-49e4-8cbc-dd06d748d385",
   "metadata": {
    "slideshow": {
     "slide_type": "subslide"
    }
   },
   "outputs": [],
   "source": [
    "# CIFAR-10 classes\n",
    "class_names = ['airplane', 'automobile', 'bird', 'cat', 'deer', 'dog', 'frog', 'horse', 'ship', 'truck']\n",
    "               \n",
    "# Create a new figure\n",
    "plt.figure(figsize=(15,15))\n",
    "\n",
    "# Loop over the first 25 images\n",
    "for i in range(64):\n",
    "    # Create a subplot for each image\n",
    "    plt.subplot(8, 8, i+1)\n",
    "    plt.xticks([])\n",
    "    plt.yticks([])\n",
    "    plt.grid(False)\n",
    "\n",
    "    # Display the image\n",
    "    plt.imshow(X_train[i])\n",
    "\n",
    "    # Set the label as the title\n",
    "    plt.title(class_names[y_train[i][0]], fontsize=12)\n",
    "\n",
    "# Display the figure\n",
    "plt.show()"
   ]
  },
  {
   "cell_type": "code",
   "execution_count": null,
   "id": "edaadfe2-d24c-43ae-b153-4e294f8adc48",
   "metadata": {
    "slideshow": {
     "slide_type": "subslide"
    }
   },
   "outputs": [],
   "source": [
    "# whats in an image?\n",
    "X_train[0][0][0]"
   ]
  },
  {
   "cell_type": "code",
   "execution_count": null,
   "id": "afc81cf7-3161-42ee-9fd3-c6c3dea41e16",
   "metadata": {
    "slideshow": {
     "slide_type": "subslide"
    }
   },
   "outputs": [],
   "source": [
    "print(f\"Max Value: {np.max(X_train)}\")\n",
    "print(f\"Min Value: {np.min(X_train)}\")"
   ]
  },
  {
   "cell_type": "code",
   "execution_count": null,
   "id": "fda1b873-a074-4524-965f-c92ed779ece6",
   "metadata": {},
   "outputs": [],
   "source": [
    "X_train = X_train.astype('float32') / 255.0\n",
    "X_test = X_test.astype('float32') / 255.0"
   ]
  },
  {
   "cell_type": "code",
   "execution_count": null,
   "id": "2ea14127-9791-4f22-962a-a8dbaa4696c5",
   "metadata": {},
   "outputs": [],
   "source": [
    "# Exploratory Data Analaysis"
   ]
  },
  {
   "cell_type": "code",
   "execution_count": null,
   "id": "cfa77e68-b698-4067-ad04-3ac748b71baa",
   "metadata": {
    "slideshow": {
     "slide_type": "subslide"
    }
   },
   "outputs": [],
   "source": [
    "unique, counts = np.unique(y_train, return_counts=True)\n",
    "print(\"Train labels: \", dict(zip(map(int, unique), map(int, counts))))\n",
    "\n",
    "unique, counts = np.unique(y_test, return_counts=True)\n",
    "print(\"\\nValidation labels: \", dict(zip(map(int, unique), map(int, counts))))"
   ]
  },
  {
   "cell_type": "markdown",
   "id": "583054af-6ec0-4c0e-b624-d81068a355bd",
   "metadata": {
    "slideshow": {
     "slide_type": "slide"
    }
   },
   "source": [
    "## 1. MLP for Image Classification"
   ]
  },
  {
   "cell_type": "code",
   "execution_count": null,
   "id": "c5467dbf-7cb4-4426-90ee-d123a88b1af3",
   "metadata": {
    "slideshow": {
     "slide_type": "subslide"
    }
   },
   "outputs": [],
   "source": [
    "from tensorflow.keras import layers, models\n",
    "from tensorflow.keras.optimizers import Adam\n",
    "\n",
    "mlp_model = models.Sequential(name=\"MLP_model\") \n",
    "\n",
    "mlp_model.add(layers.InputLayer(input_shape=(32, 32, 3)))\n",
    "mlp_model.add(layers.Flatten())\n",
    "mlp_model.add(layers.Dense(512, activation='relu'))\n",
    "mlp_model.add(layers.Dense(256, activation='relu'))\n",
    "mlp_model.add(layers.Dense(128, activation='relu'))        \n",
    "mlp_model.add(layers.Dense(10, activation='softmax'))\n",
    "\n",
    "optimizer = Adam(learning_rate=0.001)  # Use Adam optimizer\n",
    "mlp_model.compile(optimizer=optimizer,\n",
    "              loss='sparse_categorical_crossentropy',\n",
    "              metrics=['accuracy'])\n",
    "\n",
    "mlp_model.summary()"
   ]
  },
  {
   "cell_type": "code",
   "execution_count": null,
   "id": "53f870c0-a055-4a0d-8ded-19f8ec58ae6e",
   "metadata": {
    "slideshow": {
     "slide_type": "subslide"
    }
   },
   "outputs": [],
   "source": [
    "mlp_history = mlp_model.fit(X_train, y_train,\n",
    "                    epochs=50,  \n",
    "                    batch_size=256,  \n",
    "                    validation_split=0.1)"
   ]
  },
  {
   "cell_type": "code",
   "execution_count": null,
   "id": "5799134c-4378-4067-b232-83ce4c9cb7c0",
   "metadata": {
    "slideshow": {
     "slide_type": "subslide"
    }
   },
   "outputs": [],
   "source": [
    "test_loss, test_accuracy = mlp_model.evaluate(X_test, y_test)\n",
    "print(\"Test Loss:\", test_loss)\n",
    "print(\"Test Accuracy:\", test_accuracy)"
   ]
  },
  {
   "cell_type": "code",
   "execution_count": null,
   "id": "fc2a0fd7-4abc-47a6-8451-76fbd4f63087",
   "metadata": {
    "slideshow": {
     "slide_type": "subslide"
    }
   },
   "outputs": [],
   "source": [
    "plt.figure(figsize=(12, 6))\n",
    "plt.subplot(1, 2, 1)\n",
    "plt.plot(mlp_history.history['loss'], label='Training Loss')\n",
    "plt.plot(mlp_history.history['val_loss'], label='Validation Loss')\n",
    "plt.title('Training and Validation Loss')\n",
    "plt.xlabel('Epochs')\n",
    "plt.ylabel('Loss')\n",
    "plt.legend()\n",
    "\n",
    "# Plot training and validation accuracy\n",
    "plt.subplot(1, 2, 2)\n",
    "plt.plot(mlp_history.history['accuracy'], label='Training Accuracy')\n",
    "plt.plot(mlp_history.history['val_accuracy'], label='Validation Accuracy')\n",
    "plt.title('Training and Validation Accuracy')\n",
    "plt.xlabel('Epochs')\n",
    "plt.ylabel('Accuracy')\n",
    "plt.legend()\n",
    "\n",
    "plt.tight_layout()\n",
    "plt.show()\n"
   ]
  },
  {
   "cell_type": "code",
   "execution_count": null,
   "id": "f4d05847-b8ce-4113-a5e7-f3edc4070173",
   "metadata": {
    "slideshow": {
     "slide_type": "subslide"
    }
   },
   "outputs": [],
   "source": [
    "# Get predictions for the test set\n",
    "predictions_mlp = mlp_model.predict(X_test)\n",
    "predicted_labels_mlp = np.argmax(predictions_mlp, axis=1)"
   ]
  },
  {
   "cell_type": "code",
   "execution_count": null,
   "id": "00a54b73-81ec-4af8-8e8a-292906c2ade6",
   "metadata": {
    "slideshow": {
     "slide_type": "fragment"
    }
   },
   "outputs": [],
   "source": [
    "# what are the predictions?"
   ]
  },
  {
   "cell_type": "code",
   "execution_count": null,
   "id": "524ca9c4-a0b3-4267-a766-90374b25eea3",
   "metadata": {
    "slideshow": {
     "slide_type": "subslide"
    }
   },
   "outputs": [],
   "source": [
    "# Plot sample images with predicted labels\n",
    "plt.figure(figsize=(10, 10))\n",
    "for i in range(25):  # Adjust as needed\n",
    "    plt.subplot(5, 5, i + 1)\n",
    "    plt.xticks([])\n",
    "    plt.yticks([])\n",
    "    plt.grid(False)\n",
    "    plt.imshow(X_test[i])  # Plot original image\n",
    "    true_label = class_names[y_test[i][0]]  # Get true label\n",
    "    predicted_label_mlp = class_names[predicted_labels_mlp[i]]  # Get predicted label\n",
    "    if true_label == predicted_label_mlp:\n",
    "        color = 'green'  # Correct prediction\n",
    "    else:\n",
    "        color = 'red'  # Incorrect prediction\n",
    "    plt.xlabel(f\"True: {true_label}\\nPred (MLP): {predicted_label_mlp}\", color=color)\n",
    "plt.tight_layout()  # Adjust subplot layout to prevent overlap\n",
    "plt.show()"
   ]
  },
  {
   "cell_type": "code",
   "execution_count": null,
   "id": "e8b7987a-e459-4458-b34b-757ea2c9abd4",
   "metadata": {
    "slideshow": {
     "slide_type": "subslide"
    }
   },
   "outputs": [],
   "source": [
    "from sklearn.metrics import classification_report,confusion_matrix\n",
    "\n",
    "mat = confusion_matrix(y_test, predicted_labels_mlp)\n",
    "plt.figure(figsize=(8, 8)); sns.set()\n",
    "sns.heatmap(mat.T, square=True, annot=True, fmt='d', cbar=False, xticklabels=np.unique(y_test), yticklabels=np.unique(y_test))\n",
    "plt.xlabel('true label'); plt.ylabel('predicted label'); plt.show()"
   ]
  },
  {
   "cell_type": "code",
   "execution_count": null,
   "id": "9c084db8-79ba-46f6-890e-33143ad6a643",
   "metadata": {
    "slideshow": {
     "slide_type": "subslide"
    }
   },
   "outputs": [],
   "source": [
    "print(classification_report(y_test, predicted_labels_mlp, target_names=class_names))"
   ]
  },
  {
   "cell_type": "markdown",
   "id": "9968f28e-4d8e-48d3-9249-518004e1e5a1",
   "metadata": {
    "slideshow": {
     "slide_type": "slide"
    }
   },
   "source": [
    "## 2. CNN for Image Classification"
   ]
  },
  {
   "cell_type": "code",
   "execution_count": null,
   "id": "66d32465-90f2-4610-bb2e-9329a609de00",
   "metadata": {
    "slideshow": {
     "slide_type": "subslide"
    }
   },
   "outputs": [],
   "source": [
    "cnn_model = models.Sequential(name=\"CNN_model\")\n",
    "\n",
    "cnn_model.add(layers.InputLayer(input_shape=(32, 32, 3)))\n",
    "cnn_model.add(layers.Conv2D(32, (3, 3), activation='relu', padding='same'))\n",
    "cnn_model.add(layers.Conv2D(64, (3, 3), activation='relu', padding='same'))\n",
    "cnn_model.add(layers.MaxPooling2D((2, 2)))\n",
    "cnn_model.add(layers.Dropout(0.25))\n",
    "cnn_model.add(layers.Conv2D(64, (3, 3), activation='relu', padding='same'))\n",
    "cnn_model.add(layers.MaxPooling2D((2, 2)))\n",
    "cnn_model.add(layers.Dropout(0.25))\n",
    "\n",
    "cnn_model.add(layers.Flatten())\n",
    "\n",
    "cnn_model.add(layers.Dense(128, activation='relu'))\n",
    "cnn_model.add(layers.BatchNormalization())\n",
    "cnn_model.add(layers.Dropout(0.5))\n",
    "cnn_model.add(layers.Dense(10, activation='softmax'))\n",
    "\n",
    "optimizer = Adam(learning_rate=0.001) \n",
    "cnn_model.compile(optimizer=optimizer,\n",
    "              loss='sparse_categorical_crossentropy',\n",
    "              metrics=['accuracy'])\n",
    "\n",
    "\n",
    "cnn_model.summary()"
   ]
  },
  {
   "cell_type": "code",
   "execution_count": null,
   "id": "20255b21-33ff-4456-b6b3-b5b8e8cf5079",
   "metadata": {
    "slideshow": {
     "slide_type": "subslide"
    }
   },
   "outputs": [],
   "source": [
    "cnn_history = cnn_model.fit(X_train, y_train,\n",
    "                    epochs=50,  \n",
    "                    batch_size=128,  \n",
    "                    validation_split=0.1)"
   ]
  },
  {
   "cell_type": "code",
   "execution_count": null,
   "id": "fe0d976c-3dff-45d1-bb86-0f56a7d77124",
   "metadata": {},
   "outputs": [],
   "source": [
    "config = tf.compat.v1.ConfigProto()\n",
    "config.gpu_options.per_process_gpu_memory_fraction = 0.9  # Adjust this as needed\n",
    "tf.compat.v1.Session(config=config)\n"
   ]
  },
  {
   "cell_type": "code",
   "execution_count": null,
   "id": "01e9102c-414a-4c87-b472-dc16f3294829",
   "metadata": {
    "slideshow": {
     "slide_type": "subslide"
    }
   },
   "outputs": [],
   "source": [
    "plt.figure(figsize=(12, 6))\n",
    "plt.subplot(1, 2, 1)\n",
    "plt.plot(cnn_history.history['loss'], label='Training Loss')\n",
    "plt.plot(cnn_history.history['val_loss'], label='Validation Loss')\n",
    "plt.title('Training and Validation Loss')\n",
    "plt.xlabel('Epochs')\n",
    "plt.ylabel('Loss')\n",
    "plt.legend()\n",
    "\n",
    "# Plot training and validation accuracy\n",
    "plt.subplot(1, 2, 2)\n",
    "plt.plot(cnn_history.history['accuracy'], label='Training Accuracy')\n",
    "plt.plot(cnn_history.history['val_accuracy'], label='Validation Accuracy')\n",
    "plt.title('Training and Validation Accuracy')\n",
    "plt.xlabel('Epochs')\n",
    "plt.ylabel('Accuracy')\n",
    "plt.legend()\n",
    "\n",
    "plt.tight_layout()\n",
    "plt.show()"
   ]
  },
  {
   "cell_type": "code",
   "execution_count": null,
   "id": "457f0e1e-303c-4908-b5c3-1330af8e3c03",
   "metadata": {
    "slideshow": {
     "slide_type": "subslide"
    }
   },
   "outputs": [],
   "source": [
    "test_loss, test_accuracy = cnn_model.evaluate(X_test, y_test)\n",
    "print(\"Test Loss:\", test_loss)\n",
    "print(\"Test Accuracy:\", test_accuracy)"
   ]
  },
  {
   "cell_type": "code",
   "execution_count": null,
   "id": "7203c04e-2f33-43c4-a015-9ffcbda06b66",
   "metadata": {
    "slideshow": {
     "slide_type": "subslide"
    }
   },
   "outputs": [],
   "source": [
    "# Get predictions for the test set\n",
    "predictions_cnn = cnn_model.predict(X_test)\n",
    "predicted_labels_cnn = np.argmax(predictions_cnn, axis=1)\n",
    "\n",
    "# Plot sample images with predicted labels\n",
    "plt.figure(figsize=(10, 10))\n",
    "for i in range(25):  # Adjust as needed\n",
    "    plt.subplot(5, 5, i + 1)\n",
    "    plt.xticks([])\n",
    "    plt.yticks([])\n",
    "    plt.grid(False)\n",
    "    plt.imshow(X_test[i])  # Plot original image\n",
    "    true_label = class_names[y_test[i][0]]  # Get true label\n",
    "    predicted_label = class_names[predicted_labels_cnn[i]]  # Get predicted label\n",
    "    if true_label == predicted_label:\n",
    "        color = 'green'  # Correct prediction\n",
    "    else:\n",
    "        color = 'red'  # Incorrect prediction\n",
    "    plt.xlabel(f\"True: {true_label}\\nPred (CNN): {predicted_label}\", color=color)\n",
    "plt.tight_layout()  # Adjust subplot layout to prevent overlap\n",
    "plt.show()"
   ]
  },
  {
   "cell_type": "code",
   "execution_count": null,
   "id": "21fd75a5-0a74-432d-959c-7d729d3339f2",
   "metadata": {
    "slideshow": {
     "slide_type": "subslide"
    }
   },
   "outputs": [],
   "source": [
    "mat = confusion_matrix(y_test, predicted_labels_mlp)\n",
    "plt.figure(figsize=(8, 8)); sns.set()\n",
    "sns.heatmap(mat.T, square=True, annot=True, fmt='d', cbar=False, xticklabels=np.unique(y_test), yticklabels=np.unique(y_test))\n",
    "plt.xlabel('true label'); plt.ylabel('predicted label'); plt.show()"
   ]
  },
  {
   "cell_type": "code",
   "execution_count": null,
   "id": "ec30d8fe-da33-4cfa-9b05-8a33fc183c34",
   "metadata": {
    "slideshow": {
     "slide_type": "subslide"
    }
   },
   "outputs": [],
   "source": [
    "print(classification_report(y_test, predicted_labels_mlp, target_names=class_names))"
   ]
  }
 ],
 "metadata": {
  "celltoolbar": "Slideshow",
  "kernelspec": {
   "display_name": "Python 3 (ipykernel)",
   "language": "python",
   "name": "python3"
  },
  "language_info": {
   "codemirror_mode": {
    "name": "ipython",
    "version": 3
   },
   "file_extension": ".py",
   "mimetype": "text/x-python",
   "name": "python",
   "nbconvert_exporter": "python",
   "pygments_lexer": "ipython3",
   "version": "3.12.8"
  }
 },
 "nbformat": 4,
 "nbformat_minor": 5
}
